{
 "cells": [
  {
   "cell_type": "code",
   "execution_count": 18,
   "metadata": {},
   "outputs": [],
   "source": [
    "import time, random\n",
    "from selenium import webdriver\n",
    "from selenium.webdriver.common.by import By\n",
    "from selenium.webdriver.common.keys import Keys\n",
    "from selenium.webdriver.chrome.options import Options\n",
    "from selenium.webdriver.support.wait import WebDriverWait\n",
    "from selenium.webdriver.support import expected_conditions as EC\n",
    "from selenium.webdriver.support.relative_locator import locate_with\n",
    "\n",
    "from selenium.common.exceptions import StaleElementReferenceException, NoSuchElementException"
   ]
  },
  {
   "cell_type": "code",
   "execution_count": 12,
   "id": "01J3FY6ZT8HZBP07PTYPE9E253",
   "metadata": {},
   "outputs": [],
   "source": [
    "options = Options()"
   ]
  },
  {
   "cell_type": "code",
   "execution_count": 13,
   "id": "01J3FY7HA8KHDX4MFYXD66H66R",
   "metadata": {},
   "outputs": [],
   "source": [
    "options.add_argument('--start-maximized')"
   ]
  },
  {
   "cell_type": "code",
   "execution_count": 14,
   "id": "01J3FN5RY44PC6XSKB84TVFC4Z",
   "metadata": {},
   "outputs": [],
   "source": [
    "driver = webdriver.Chrome(options=options)\n",
    "driver.implicitly_wait(2)\n",
    "driver.get('http://web.workwisse.com/jobs')"
   ]
  },
  {
   "cell_type": "markdown",
   "metadata": {},
   "source": [
    "## Task"
   ]
  },
  {
   "cell_type": "markdown",
   "metadata": {},
   "source": [
    "### CSS Selectors\n",
    "These are very handy for hard to find elements, arising from situation where:\n",
    "- HTML element only has a general attribute such as class.\n",
    "- Inner HTML is needed (XPATH locators will match any element on the entire page).\n",
    "\n",
    "The general form is\n",
    "```html\n",
    "\"<html-tag>[<attribute-name>='<attribute-value>']\"\n",
    "\"p[class='mb-0 fz14 list-inline-item mb5-sm pe-1']\"\n",
    "```"
   ]
  },
  {
   "cell_type": "code",
   "execution_count": 15,
   "id": "01J3FV0E832XGRD588VSSCHZZX",
   "metadata": {},
   "outputs": [],
   "source": [
    "def analyse_page(page_count: int, driver) -> list[dict]:\n",
    "    data = []\n",
    "    \n",
    "    try:\n",
    "        job_cards = driver.find_elements(By.XPATH, '//div[@class=\"col-md-6 col-lg-12\"]')\n",
    "    except StaleElementReferenceException:\n",
    "        driver.refresh()        # Potentially problematic. Returns us to the first page.\n",
    "        # Ensure we are on the right page numeber.\n",
    "        # driver.find_element(By.CSS_SELECTOR, f'li[page-num=\"{page_count}\"]').click()   \n",
    "        job_cards = driver.find_elements(By.XPATH, '//div[@class=\"col-md-6 col-lg-12\"]')\n",
    "        \n",
    "    \n",
    "    for job in job_cards:\n",
    "        time.sleep(1)\n",
    "        title_bar = job.find_element(By.CSS_SELECTOR, 'h5[class=\"title mb-3\"]')\n",
    "        # title_bar = job.find_element(By.TAG_NAME, 'h5')\n",
    "        title = title_bar.text\n",
    "        url = title_bar.find_element(By.TAG_NAME, 'a').get_attribute('href')\n",
    "        location = job.find_element(By.CSS_SELECTOR, \"p[class='mb-0 fz14 list-inline-item mb5-sm pe-1']\").text\n",
    "        price = job.find_element(By.CSS_SELECTOR, \"div[class='text-lg-end']\").text\n",
    "\n",
    "        data.append({'title': title, 'url': url, 'location': location, 'price': price, 'page_number': page_count})\n",
    "\n",
    "        # print(title, url, location, price)\n",
    "    \n",
    "    return data"
   ]
  },
  {
   "cell_type": "code",
   "execution_count": 16,
   "id": "01J3G23RSZ9BRBNHZMQBGVBEGZ",
   "metadata": {},
   "outputs": [],
   "source": [
    "# WebDriverWait(driver, 5).until(EC.presence_of_element_located((By.CSS_SELECTOR, 'h5[class=\"title mb-3\"]')))"
   ]
  },
  {
   "cell_type": "markdown",
   "metadata": {},
   "source": [
    "### Pagination"
   ]
  },
  {
   "cell_type": "code",
   "execution_count": null,
   "id": "01J3FVSTNSGQFN00SYJMBRDXMF",
   "metadata": {},
   "outputs": [],
   "source": [
    "data = []\n",
    "page_count = 1\n",
    "while True:\n",
    "    page_content = analyse_page(page_count, driver)\n",
    "    data.extend(page_content)\n",
    "    \n",
    "    # Navigator location\n",
    "    ## Next page strategy\n",
    "    # next_page = driver.find_element(By.CSS_SELECTOR, \"span[class='fas fa-angle-right']\")\n",
    "    # next_page.click()\n",
    "\n",
    "    ## Page numbers as attribute values strategy\n",
    "    try:\n",
    "        driver.find_element(By.CSS_SELECTOR, f'li[page-num=\"{page_count + 1}\"]').click()\n",
    "    ## Signifies we have reached the last page. Exit Loop\n",
    "    except NoSuchElementException:\n",
    "        break\n",
    "\n",
    "    page_count += 1\n",
    "\n",
    "    time.sleep(random.uniform(1.5, 3))"
   ]
  },
  {
   "cell_type": "code",
   "execution_count": 21,
   "id": "01J3FYK67DEZXSDHWGAE2G1MKB",
   "metadata": {},
   "outputs": [],
   "source": [
    "driver.quit()"
   ]
  },
  {
   "cell_type": "markdown",
   "metadata": {},
   "source": [
    "#### Alternative Navigator Location Strategy"
   ]
  },
  {
   "cell_type": "markdown",
   "metadata": {},
   "source": [
    "##### Page Numbers as attribute values"
   ]
  },
  {
   "cell_type": "code",
   "execution_count": null,
   "id": "01J3G0DH1PGCM0S5X079SYJBB7",
   "metadata": {},
   "outputs": [],
   "source": [
    "# driver.find_element(By.CSS_SELECTOR, 'li[page-num=\"2\"]')"
   ]
  },
  {
   "cell_type": "markdown",
   "metadata": {},
   "source": [
    "##### Others"
   ]
  },
  {
   "cell_type": "code",
   "execution_count": null,
   "id": "01J3FXSM4JH8ZZ2ANZDBF2RQMQ",
   "metadata": {},
   "outputs": [],
   "source": [
    "# navigator_bar = driver.find_element(By.CSS_SELECTOR, \"ul[class='page_navigation']\")\n",
    "# navigators = navigator_bar.find_elements(By.TAG_NAME, 'li')\n",
    "# navigators[-1].click()"
   ]
  },
  {
   "cell_type": "code",
   "execution_count": null,
   "id": "01J3FWVXEJTFGA9C3MA2TW1X2E",
   "metadata": {},
   "outputs": [],
   "source": [
    "# for navigator in driver.find_elements(By.CSS_SELECTOR, \"li[class='page-item bg-white ']\"):\n",
    "#     next_page = navigator.find_element(By.CSS_SELECTOR, \"a[class='page-link ']\")\n",
    "#     if next_page == None:\n",
    "#         raise Exception(\"No next page\")"
   ]
  },
  {
   "cell_type": "code",
   "execution_count": null,
   "id": "01J3FVQJZKKHJ82NZ5391TP2A8",
   "metadata": {},
   "outputs": [],
   "source": [
    "len(data)"
   ]
  },
  {
   "cell_type": "markdown",
   "metadata": {},
   "source": [
    "## Save Data"
   ]
  },
  {
   "cell_type": "code",
   "execution_count": 19,
   "id": "01J3FV40PHCPT09SJSTDVMZJFC",
   "metadata": {},
   "outputs": [],
   "source": [
    "import json"
   ]
  },
  {
   "cell_type": "code",
   "execution_count": 20,
   "id": "01J3FV9W2MT9ZX108A8QEA1KS4",
   "metadata": {},
   "outputs": [],
   "source": [
    "with open(\"data/workwisse.jsonl\", \"w\", encoding=\"utf-8\") as f:\n",
    "    for line in data:\n",
    "        json.dump(line, f)\n",
    "        f.write(\"\\n\")       # Critical newline character"
   ]
  },
  {
   "cell_type": "code",
   "execution_count": null,
   "id": "01J3FVDDMCB6FYEWFJYVX264PF",
   "metadata": {},
   "outputs": [],
   "source": []
  }
 ],
 "metadata": {
  "kernelspec": {
   "display_name": "remotework",
   "language": "python",
   "name": "remotework"
  },
  "language_info": {
   "codemirror_mode": {
    "name": "ipython",
    "version": 3
   },
   "file_extension": ".py",
   "mimetype": "text/x-python",
   "name": "python",
   "nbconvert_exporter": "python",
   "pygments_lexer": "ipython3",
   "version": "3.10.4"
  }
 },
 "nbformat": 4,
 "nbformat_minor": 2
}
